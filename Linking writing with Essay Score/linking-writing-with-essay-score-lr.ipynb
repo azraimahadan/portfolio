{
 "cells": [
  {
   "cell_type": "markdown",
   "id": "dd29bc3d",
   "metadata": {
    "_cell_guid": "b1076dfc-b9ad-4769-8c92-a6c4dae69d19",
    "_uuid": "8f2839f25d086af736a60e9eeb907d3b93b6e0e5",
    "papermill": {
     "duration": 0.008805,
     "end_time": "2023-10-24T04:46:04.198833",
     "exception": false,
     "start_time": "2023-10-24T04:46:04.190028",
     "status": "completed"
    },
    "tags": []
   },
   "source": [
    "# Overview\n",
    "The goal of this competition is to predict overall writing quality. Does typing behavior affect the outcome of an essay? You will develop a model trained on a large dataset of keystroke logs that have captured writing process features.\n",
    "\n"
   ]
  },
  {
   "cell_type": "markdown",
   "id": "cfd014f7",
   "metadata": {
    "papermill": {
     "duration": 0.008272,
     "end_time": "2023-10-24T04:46:04.215020",
     "exception": false,
     "start_time": "2023-10-24T04:46:04.206748",
     "status": "completed"
    },
    "tags": []
   },
   "source": [
    "## Introduction\n",
    "This notebook addresses the Kaggle competition \"Linking Writing Processes to Writing Quality,\" where the goal is to predict essay quality based on typing behavior. In this analysis, we explore the provided dataset, perform feature engineering, build predictive models, and visualize the results."
   ]
  },
  {
   "cell_type": "markdown",
   "id": "f6d0654f",
   "metadata": {
    "papermill": {
     "duration": 0.007952,
     "end_time": "2023-10-24T04:46:04.233192",
     "exception": false,
     "start_time": "2023-10-24T04:46:04.225240",
     "status": "completed"
    },
    "tags": []
   },
   "source": [
    "# Data Exploration and Preprocessing\n",
    "Let us start by exploring the training data, visualizing essay quality distribution, and identifying key patterns in typing behavior.\n",
    "**Also don't forget to import our loved ones** ;)) "
   ]
  },
  {
   "cell_type": "code",
   "execution_count": 1,
   "id": "7ddf03d8",
   "metadata": {
    "execution": {
     "iopub.execute_input": "2023-10-24T04:46:04.251186Z",
     "iopub.status.busy": "2023-10-24T04:46:04.250160Z",
     "iopub.status.idle": "2023-10-24T04:46:23.932624Z",
     "shell.execute_reply": "2023-10-24T04:46:23.931338Z"
    },
    "papermill": {
     "duration": 19.694436,
     "end_time": "2023-10-24T04:46:23.935239",
     "exception": false,
     "start_time": "2023-10-24T04:46:04.240803",
     "status": "completed"
    },
    "tags": []
   },
   "outputs": [
    {
     "name": "stdout",
     "output_type": "stream",
     "text": [
      "Import sucessful, for libraries\n",
      "         id  event_id  down_time  up_time  action_time       activity  \\\n",
      "0  001519c8         1       4526     4557           31  Nonproduction   \n",
      "1  001519c8         2       4558     4962          404  Nonproduction   \n",
      "2  001519c8         3     106571   106571            0  Nonproduction   \n",
      "3  001519c8         4     106686   106777           91          Input   \n",
      "4  001519c8         5     107196   107323          127          Input   \n",
      "\n",
      "  down_event   up_event text_change  cursor_position  word_count  \n",
      "0  Leftclick  Leftclick    NoChange                0           0  \n",
      "1  Leftclick  Leftclick    NoChange                0           0  \n",
      "2      Shift      Shift    NoChange                0           0  \n",
      "3          q          q           q                1           1  \n",
      "4          q          q           q                2           1  \n",
      "<class 'pandas.core.frame.DataFrame'>\n",
      "RangeIndex: 8405898 entries, 0 to 8405897\n",
      "Data columns (total 11 columns):\n",
      " #   Column           Dtype \n",
      "---  ------           ----- \n",
      " 0   id               object\n",
      " 1   event_id         int64 \n",
      " 2   down_time        int64 \n",
      " 3   up_time          int64 \n",
      " 4   action_time      int64 \n",
      " 5   activity         object\n",
      " 6   down_event       object\n",
      " 7   up_event         object\n",
      " 8   text_change      object\n",
      " 9   cursor_position  int64 \n",
      " 10  word_count       int64 \n",
      "dtypes: int64(6), object(5)\n",
      "memory usage: 705.5+ MB\n",
      "None\n"
     ]
    }
   ],
   "source": [
    "import pandas as pd\n",
    "import matplotlib.pyplot as plt\n",
    "import seaborn as sns\n",
    "from sklearn.model_selection import train_test_split\n",
    "from sklearn.linear_model import LinearRegression\n",
    "from sklearn.metrics import mean_squared_error\n",
    "import warnings\n",
    "warnings.filterwarnings(\"ignore\", category=UserWarning)\n",
    "\n",
    "print('Import sucessful, for libraries')\n",
    "\n",
    "# Load the training and test data\n",
    "train_logs = pd.read_csv('/kaggle/input/linking-writing-processes-to-writing-quality/train_logs.csv')\n",
    "test_logs = pd.read_csv('/kaggle/input/linking-writing-processes-to-writing-quality/test_logs.csv')\n",
    "train_scores = pd.read_csv('/kaggle/input/linking-writing-processes-to-writing-quality/train_scores.csv')\n",
    "\n",
    "# Check data structure and initial summary\n",
    "print(train_logs.head())\n",
    "print(train_logs.info())"
   ]
  },
  {
   "cell_type": "markdown",
   "id": "8ba80251",
   "metadata": {
    "papermill": {
     "duration": 0.007931,
     "end_time": "2023-10-24T04:46:23.951178",
     "exception": false,
     "start_time": "2023-10-24T04:46:23.943247",
     "status": "completed"
    },
    "tags": []
   },
   "source": [
    "# Data Visualization\n",
    "Let's take a initial look on our data to undertand the structure"
   ]
  },
  {
   "cell_type": "code",
   "execution_count": 2,
   "id": "895f12be",
   "metadata": {
    "execution": {
     "iopub.execute_input": "2023-10-24T04:46:23.968885Z",
     "iopub.status.busy": "2023-10-24T04:46:23.968487Z",
     "iopub.status.idle": "2023-10-24T04:46:24.314755Z",
     "shell.execute_reply": "2023-10-24T04:46:24.313450Z"
    },
    "papermill": {
     "duration": 0.358223,
     "end_time": "2023-10-24T04:46:24.317295",
     "exception": false,
     "start_time": "2023-10-24T04:46:23.959072",
     "status": "completed"
    },
    "tags": []
   },
   "outputs": [
    {
     "data": {
      "image/png": "[encoded data removed]",
      "text/plain": [
       "<Figure size 640x480 with 1 Axes>"
      ]
     },
     "metadata": {},
     "output_type": "display_data"
    }
   ],
   "source": [
    "# Create a histogram of essay scores\n",
    "plt.hist(train_scores['score'], bins=7, edgecolor='k')\n",
    "plt.xlabel('Essay Score')\n",
    "plt.ylabel('Count')\n",
    "plt.title('Distribution of Essay Scores')\n",
    "plt.show()"
   ]
  },
  {
   "cell_type": "code",
   "execution_count": 3,
   "id": "e1814cd1",
   "metadata": {
    "execution": {
     "iopub.execute_input": "2023-10-24T04:46:24.336222Z",
     "iopub.status.busy": "2023-10-24T04:46:24.335831Z",
     "iopub.status.idle": "2023-10-24T04:46:25.010942Z",
     "shell.execute_reply": "2023-10-24T04:46:25.009714Z"
    },
    "papermill": {
     "duration": 0.687671,
     "end_time": "2023-10-24T04:46:25.013433",
     "exception": false,
     "start_time": "2023-10-24T04:46:24.325762",
     "status": "completed"
    },
    "tags": []
   },
   "outputs": [
    {
     "data": {
      "text/plain": [
       "array(['NoChange', 'q', ' ', ..., 'qq qqq qqqq qqqqq',\n",
       "       'qq qqqqq qqqq qq qqqqq ',\n",
       "       '\\n qqqqq qqqqqq qqqqqqqqqq qq q qqqqqqqq qqq qqq qqqq qqqqqq q qqq. \\n\\nqqqq qqq qq qqqqqqq qqq:\\n- \\n- qqq qqqqqqq qqqq q qqqqqq qqqqqqqq qq qqqq qqqqqqqq '],\n",
       "      dtype=object)"
      ]
     },
     "execution_count": 3,
     "metadata": {},
     "output_type": "execute_result"
    }
   ],
   "source": [
    "train_logs['text_change'].unique()"
   ]
  },
  {
   "cell_type": "code",
   "execution_count": 4,
   "id": "59cb86b7",
   "metadata": {
    "execution": {
     "iopub.execute_input": "2023-10-24T04:46:25.032561Z",
     "iopub.status.busy": "2023-10-24T04:46:25.032168Z",
     "iopub.status.idle": "2023-10-24T04:46:26.662701Z",
     "shell.execute_reply": "2023-10-24T04:46:26.661040Z"
    },
    "papermill": {
     "duration": 1.643424,
     "end_time": "2023-10-24T04:46:26.665372",
     "exception": false,
     "start_time": "2023-10-24T04:46:25.021948",
     "status": "completed"
    },
    "tags": []
   },
   "outputs": [
    {
     "name": "stdout",
     "output_type": "stream",
     "text": [
      "id\n",
      "001519c8    2557\n",
      "0022f953    2454\n",
      "0042269b    4136\n",
      "0059420b    1556\n",
      "0075873a    2531\n",
      "            ... \n",
      "ffb8c745    4739\n",
      "ffbef7e5    2604\n",
      "ffccd6fd    3063\n",
      "ffec5b38    3242\n",
      "fff05981    3619\n",
      "Name: event_id, Length: 2471, dtype: int64\n",
      "id\n",
      "001519c8    1539\n",
      "0022f953    1676\n",
      "0042269b    2291\n",
      "0059420b    1047\n",
      "0075873a    1402\n",
      "            ... \n",
      "ffb8c745    1634\n",
      "ffbef7e5    1877\n",
      "ffccd6fd    2761\n",
      "ffec5b38    2133\n",
      "fff05981    1496\n",
      "Name: cursor_position, Length: 2471, dtype: int64\n"
     ]
    }
   ],
   "source": [
    "print(train_logs.groupby(\"id\")['event_id'].size())\n",
    "print(train_logs.groupby(\"id\")['cursor_position'].max())"
   ]
  },
  {
   "cell_type": "markdown",
   "id": "77b63c9e",
   "metadata": {
    "papermill": {
     "duration": 0.008546,
     "end_time": "2023-10-24T04:46:26.682858",
     "exception": false,
     "start_time": "2023-10-24T04:46:26.674312",
     "status": "completed"
    },
    "tags": []
   },
   "source": [
    "# Feature Engineering\n",
    "\n",
    "Let's extract relevant features from the typing behavior data, such as pause frequency and revision counts, etc. These features are used to train our machine learning models."
   ]
  },
  {
   "cell_type": "code",
   "execution_count": 5,
   "id": "f9894334",
   "metadata": {
    "execution": {
     "iopub.execute_input": "2023-10-24T04:46:26.702777Z",
     "iopub.status.busy": "2023-10-24T04:46:26.702349Z",
     "iopub.status.idle": "2023-10-24T04:46:26.706961Z",
     "shell.execute_reply": "2023-10-24T04:46:26.705856Z"
    },
    "papermill": {
     "duration": 0.017562,
     "end_time": "2023-10-24T04:46:26.709381",
     "exception": false,
     "start_time": "2023-10-24T04:46:26.691819",
     "status": "completed"
    },
    "tags": []
   },
   "outputs": [],
   "source": [
    "#print(merged_data['activity'].value_counts().head(10))"
   ]
  },
  {
   "cell_type": "code",
   "execution_count": 6,
   "id": "daba6ef9",
   "metadata": {
    "execution": {
     "iopub.execute_input": "2023-10-24T04:46:26.729434Z",
     "iopub.status.busy": "2023-10-24T04:46:26.729015Z",
     "iopub.status.idle": "2023-10-24T04:46:26.733379Z",
     "shell.execute_reply": "2023-10-24T04:46:26.732475Z"
    },
    "papermill": {
     "duration": 0.016937,
     "end_time": "2023-10-24T04:46:26.735575",
     "exception": false,
     "start_time": "2023-10-24T04:46:26.718638",
     "status": "completed"
    },
    "tags": []
   },
   "outputs": [],
   "source": [
    "#merged_data['text_change'].value_counts().head(50)"
   ]
  },
  {
   "cell_type": "code",
   "execution_count": 7,
   "id": "136eff70",
   "metadata": {
    "execution": {
     "iopub.execute_input": "2023-10-24T04:46:26.755381Z",
     "iopub.status.busy": "2023-10-24T04:46:26.754920Z",
     "iopub.status.idle": "2023-10-24T04:46:26.759664Z",
     "shell.execute_reply": "2023-10-24T04:46:26.758461Z"
    },
    "papermill": {
     "duration": 0.01769,
     "end_time": "2023-10-24T04:46:26.762220",
     "exception": false,
     "start_time": "2023-10-24T04:46:26.744530",
     "status": "completed"
    },
    "tags": []
   },
   "outputs": [],
   "source": [
    "#train_logs.isnull().sum()"
   ]
  },
  {
   "cell_type": "code",
   "execution_count": 8,
   "id": "4ee50b00",
   "metadata": {
    "execution": {
     "iopub.execute_input": "2023-10-24T04:46:26.782428Z",
     "iopub.status.busy": "2023-10-24T04:46:26.781939Z",
     "iopub.status.idle": "2023-10-24T04:46:26.800951Z",
     "shell.execute_reply": "2023-10-24T04:46:26.799775Z"
    },
    "papermill": {
     "duration": 0.032205,
     "end_time": "2023-10-24T04:46:26.803339",
     "exception": false,
     "start_time": "2023-10-24T04:46:26.771134",
     "status": "completed"
    },
    "tags": []
   },
   "outputs": [
    {
     "data": {
      "text/html": [
       "<div>\n",
       "<style scoped>\n",
       "    .dataframe tbody tr th:only-of-type {\n",
       "        vertical-align: middle;\n",
       "    }\n",
       "\n",
       "    .dataframe tbody tr th {\n",
       "        vertical-align: top;\n",
       "    }\n",
       "\n",
       "    .dataframe thead th {\n",
       "        text-align: right;\n",
       "    }\n",
       "</style>\n",
       "<table border=\"1\" class=\"dataframe\">\n",
       "  <thead>\n",
       "    <tr style=\"text-align: right;\">\n",
       "      <th></th>\n",
       "      <th>id</th>\n",
       "      <th>event_id</th>\n",
       "      <th>down_time</th>\n",
       "      <th>up_time</th>\n",
       "      <th>action_time</th>\n",
       "      <th>activity</th>\n",
       "      <th>down_event</th>\n",
       "      <th>up_event</th>\n",
       "      <th>text_change</th>\n",
       "      <th>cursor_position</th>\n",
       "      <th>word_count</th>\n",
       "    </tr>\n",
       "  </thead>\n",
       "  <tbody>\n",
       "    <tr>\n",
       "      <th>0</th>\n",
       "      <td>0000aaaa</td>\n",
       "      <td>1</td>\n",
       "      <td>338433</td>\n",
       "      <td>338518</td>\n",
       "      <td>85</td>\n",
       "      <td>Input</td>\n",
       "      <td>Space</td>\n",
       "      <td>Space</td>\n",
       "      <td></td>\n",
       "      <td>0</td>\n",
       "      <td>0</td>\n",
       "    </tr>\n",
       "    <tr>\n",
       "      <th>1</th>\n",
       "      <td>0000aaaa</td>\n",
       "      <td>2</td>\n",
       "      <td>760073</td>\n",
       "      <td>760160</td>\n",
       "      <td>87</td>\n",
       "      <td>Input</td>\n",
       "      <td>Space</td>\n",
       "      <td>Space</td>\n",
       "      <td></td>\n",
       "      <td>1</td>\n",
       "      <td>0</td>\n",
       "    </tr>\n",
       "    <tr>\n",
       "      <th>2</th>\n",
       "      <td>2222bbbb</td>\n",
       "      <td>1</td>\n",
       "      <td>711956</td>\n",
       "      <td>712023</td>\n",
       "      <td>67</td>\n",
       "      <td>Input</td>\n",
       "      <td>q</td>\n",
       "      <td>q</td>\n",
       "      <td>q</td>\n",
       "      <td>0</td>\n",
       "      <td>1</td>\n",
       "    </tr>\n",
       "    <tr>\n",
       "      <th>3</th>\n",
       "      <td>2222bbbb</td>\n",
       "      <td>2</td>\n",
       "      <td>290502</td>\n",
       "      <td>290548</td>\n",
       "      <td>46</td>\n",
       "      <td>Input</td>\n",
       "      <td>q</td>\n",
       "      <td>q</td>\n",
       "      <td>q</td>\n",
       "      <td>1</td>\n",
       "      <td>1</td>\n",
       "    </tr>\n",
       "    <tr>\n",
       "      <th>4</th>\n",
       "      <td>4444cccc</td>\n",
       "      <td>1</td>\n",
       "      <td>635547</td>\n",
       "      <td>635641</td>\n",
       "      <td>94</td>\n",
       "      <td>Input</td>\n",
       "      <td>Space</td>\n",
       "      <td>Space</td>\n",
       "      <td></td>\n",
       "      <td>0</td>\n",
       "      <td>0</td>\n",
       "    </tr>\n",
       "    <tr>\n",
       "      <th>5</th>\n",
       "      <td>4444cccc</td>\n",
       "      <td>2</td>\n",
       "      <td>184996</td>\n",
       "      <td>185052</td>\n",
       "      <td>56</td>\n",
       "      <td>Input</td>\n",
       "      <td>q</td>\n",
       "      <td>q</td>\n",
       "      <td>q</td>\n",
       "      <td>1</td>\n",
       "      <td>1</td>\n",
       "    </tr>\n",
       "  </tbody>\n",
       "</table>\n",
       "</div>"
      ],
      "text/plain": [
       "         id  event_id  down_time  up_time  action_time activity down_event  \\\n",
       "0  0000aaaa         1     338433   338518           85    Input      Space   \n",
       "1  0000aaaa         2     760073   760160           87    Input      Space   \n",
       "2  2222bbbb         1     711956   712023           67    Input          q   \n",
       "3  2222bbbb         2     290502   290548           46    Input          q   \n",
       "4  4444cccc         1     635547   635641           94    Input      Space   \n",
       "5  4444cccc         2     184996   185052           56    Input          q   \n",
       "\n",
       "  up_event text_change  cursor_position  word_count  \n",
       "0    Space                            0           0  \n",
       "1    Space                            1           0  \n",
       "2        q           q                0           1  \n",
       "3        q           q                1           1  \n",
       "4    Space                            0           0  \n",
       "5        q           q                1           1  "
      ]
     },
     "execution_count": 8,
     "metadata": {},
     "output_type": "execute_result"
    }
   ],
   "source": [
    "test_logs"
   ]
  },
  {
   "cell_type": "code",
   "execution_count": 9,
   "id": "eca2a917",
   "metadata": {
    "execution": {
     "iopub.execute_input": "2023-10-24T04:46:26.824163Z",
     "iopub.status.busy": "2023-10-24T04:46:26.823479Z",
     "iopub.status.idle": "2023-10-24T04:46:26.834951Z",
     "shell.execute_reply": "2023-10-24T04:46:26.833840Z"
    },
    "papermill": {
     "duration": 0.025099,
     "end_time": "2023-10-24T04:46:26.837634",
     "exception": false,
     "start_time": "2023-10-24T04:46:26.812535",
     "status": "completed"
    },
    "tags": []
   },
   "outputs": [],
   "source": [
    "def feat_eng(train_logs):\n",
    "    grouped_data = train_logs.groupby('id')\n",
    "\n",
    "    grouped_data = grouped_data.agg({\n",
    "        'event_id': 'count',\n",
    "        'action_time': 'sum',\n",
    "        'cursor_position': 'max',\n",
    "        'word_count': 'max'\n",
    "    })\n",
    "\n",
    "    # Get the top 10 most frequent 'activity' values\n",
    "    top_activity_values = train_logs['activity'].value_counts().nlargest(10).index\n",
    "\n",
    "    # Get the top 50 most frequent 'text_change' values\n",
    "    top_text_change_values = train_logs['text_change'].value_counts().nlargest(30).index\n",
    "\n",
    "    # Filter 'activity' and 'text_change' columns based on the top values\n",
    "    filtered_merged_data = train_logs[train_logs['activity'].isin(top_activity_values)]\n",
    "    filtered_merged_data = filtered_merged_data[filtered_merged_data['text_change'].isin(top_text_change_values)]\n",
    "\n",
    "    # Group by 'id' and transform to get the count for each 'activity' and 'text_change' value\n",
    "    activity_counts = filtered_merged_data.groupby('id')['activity'].value_counts().unstack(fill_value=0)\n",
    "    text_change_counts = filtered_merged_data.groupby('id')['text_change'].value_counts().unstack(fill_value=0)\n",
    "\n",
    "    # Concatenate the count columns to the grouped_data DataFrame\n",
    "    grouped_data = pd.concat([grouped_data, activity_counts, text_change_counts], axis=1)\n",
    "    \n",
    "    return grouped_data"
   ]
  },
  {
   "cell_type": "code",
   "execution_count": 10,
   "id": "bb306c99",
   "metadata": {
    "execution": {
     "iopub.execute_input": "2023-10-24T04:46:26.858770Z",
     "iopub.status.busy": "2023-10-24T04:46:26.858381Z",
     "iopub.status.idle": "2023-10-24T04:46:36.788720Z",
     "shell.execute_reply": "2023-10-24T04:46:36.787245Z"
    },
    "papermill": {
     "duration": 9.943902,
     "end_time": "2023-10-24T04:46:36.791221",
     "exception": false,
     "start_time": "2023-10-24T04:46:26.847319",
     "status": "completed"
    },
    "tags": []
   },
   "outputs": [
    {
     "data": {
      "text/html": [
       "<div>\n",
       "<style scoped>\n",
       "    .dataframe tbody tr th:only-of-type {\n",
       "        vertical-align: middle;\n",
       "    }\n",
       "\n",
       "    .dataframe tbody tr th {\n",
       "        vertical-align: top;\n",
       "    }\n",
       "\n",
       "    .dataframe thead th {\n",
       "        text-align: right;\n",
       "    }\n",
       "</style>\n",
       "<table border=\"1\" class=\"dataframe\">\n",
       "  <thead>\n",
       "    <tr style=\"text-align: right;\">\n",
       "      <th></th>\n",
       "      <th>event_id</th>\n",
       "      <th>action_time</th>\n",
       "      <th>cursor_position</th>\n",
       "      <th>word_count</th>\n",
       "      <th>Input</th>\n",
       "      <th>Move From [624, 625] To [845, 846]</th>\n",
       "      <th>Nonproduction</th>\n",
       "      <th>Paste</th>\n",
       "      <th>Remove/Cut</th>\n",
       "      <th>Replace</th>\n",
       "      <th>...</th>\n",
       "      <th>q</th>\n",
       "      <th>q =&gt; q</th>\n",
       "      <th>qq =&gt; q</th>\n",
       "      <th>qqq  =&gt; q</th>\n",
       "      <th>qqq =&gt; q</th>\n",
       "      <th>qqqq  =&gt; q</th>\n",
       "      <th>qqqq =&gt; q</th>\n",
       "      <th>qqqqq =&gt; q</th>\n",
       "      <th>qqqqqq =&gt; q</th>\n",
       "      <th>score</th>\n",
       "    </tr>\n",
       "  </thead>\n",
       "  <tbody>\n",
       "    <tr>\n",
       "      <th>0</th>\n",
       "      <td>2557</td>\n",
       "      <td>297243</td>\n",
       "      <td>1539</td>\n",
       "      <td>256</td>\n",
       "      <td>2010</td>\n",
       "      <td>0</td>\n",
       "      <td>120</td>\n",
       "      <td>0</td>\n",
       "      <td>417</td>\n",
       "      <td>1</td>\n",
       "      <td>...</td>\n",
       "      <td>1939</td>\n",
       "      <td>0</td>\n",
       "      <td>0</td>\n",
       "      <td>0</td>\n",
       "      <td>0</td>\n",
       "      <td>1</td>\n",
       "      <td>0</td>\n",
       "      <td>0</td>\n",
       "      <td>0</td>\n",
       "      <td>3.5</td>\n",
       "    </tr>\n",
       "    <tr>\n",
       "      <th>1</th>\n",
       "      <td>2454</td>\n",
       "      <td>275391</td>\n",
       "      <td>1676</td>\n",
       "      <td>323</td>\n",
       "      <td>1938</td>\n",
       "      <td>0</td>\n",
       "      <td>254</td>\n",
       "      <td>0</td>\n",
       "      <td>260</td>\n",
       "      <td>1</td>\n",
       "      <td>...</td>\n",
       "      <td>1698</td>\n",
       "      <td>0</td>\n",
       "      <td>0</td>\n",
       "      <td>0</td>\n",
       "      <td>0</td>\n",
       "      <td>0</td>\n",
       "      <td>0</td>\n",
       "      <td>0</td>\n",
       "      <td>1</td>\n",
       "      <td>3.5</td>\n",
       "    </tr>\n",
       "    <tr>\n",
       "      <th>2</th>\n",
       "      <td>4136</td>\n",
       "      <td>421201</td>\n",
       "      <td>2291</td>\n",
       "      <td>404</td>\n",
       "      <td>3515</td>\n",
       "      <td>0</td>\n",
       "      <td>175</td>\n",
       "      <td>0</td>\n",
       "      <td>436</td>\n",
       "      <td>0</td>\n",
       "      <td>...</td>\n",
       "      <td>3257</td>\n",
       "      <td>0</td>\n",
       "      <td>0</td>\n",
       "      <td>0</td>\n",
       "      <td>0</td>\n",
       "      <td>0</td>\n",
       "      <td>0</td>\n",
       "      <td>0</td>\n",
       "      <td>0</td>\n",
       "      <td>6.0</td>\n",
       "    </tr>\n",
       "    <tr>\n",
       "      <th>3</th>\n",
       "      <td>1556</td>\n",
       "      <td>189596</td>\n",
       "      <td>1047</td>\n",
       "      <td>206</td>\n",
       "      <td>1304</td>\n",
       "      <td>0</td>\n",
       "      <td>99</td>\n",
       "      <td>0</td>\n",
       "      <td>151</td>\n",
       "      <td>0</td>\n",
       "      <td>...</td>\n",
       "      <td>1146</td>\n",
       "      <td>0</td>\n",
       "      <td>0</td>\n",
       "      <td>0</td>\n",
       "      <td>0</td>\n",
       "      <td>0</td>\n",
       "      <td>0</td>\n",
       "      <td>0</td>\n",
       "      <td>0</td>\n",
       "      <td>2.0</td>\n",
       "    </tr>\n",
       "    <tr>\n",
       "      <th>4</th>\n",
       "      <td>2531</td>\n",
       "      <td>313702</td>\n",
       "      <td>1402</td>\n",
       "      <td>252</td>\n",
       "      <td>1942</td>\n",
       "      <td>0</td>\n",
       "      <td>72</td>\n",
       "      <td>0</td>\n",
       "      <td>517</td>\n",
       "      <td>0</td>\n",
       "      <td>...</td>\n",
       "      <td>1964</td>\n",
       "      <td>0</td>\n",
       "      <td>0</td>\n",
       "      <td>0</td>\n",
       "      <td>0</td>\n",
       "      <td>0</td>\n",
       "      <td>0</td>\n",
       "      <td>0</td>\n",
       "      <td>0</td>\n",
       "      <td>4.0</td>\n",
       "    </tr>\n",
       "    <tr>\n",
       "      <th>...</th>\n",
       "      <td>...</td>\n",
       "      <td>...</td>\n",
       "      <td>...</td>\n",
       "      <td>...</td>\n",
       "      <td>...</td>\n",
       "      <td>...</td>\n",
       "      <td>...</td>\n",
       "      <td>...</td>\n",
       "      <td>...</td>\n",
       "      <td>...</td>\n",
       "      <td>...</td>\n",
       "      <td>...</td>\n",
       "      <td>...</td>\n",
       "      <td>...</td>\n",
       "      <td>...</td>\n",
       "      <td>...</td>\n",
       "      <td>...</td>\n",
       "      <td>...</td>\n",
       "      <td>...</td>\n",
       "      <td>...</td>\n",
       "      <td>...</td>\n",
       "    </tr>\n",
       "    <tr>\n",
       "      <th>2466</th>\n",
       "      <td>4739</td>\n",
       "      <td>499670</td>\n",
       "      <td>1634</td>\n",
       "      <td>461</td>\n",
       "      <td>3588</td>\n",
       "      <td>0</td>\n",
       "      <td>189</td>\n",
       "      <td>0</td>\n",
       "      <td>959</td>\n",
       "      <td>1</td>\n",
       "      <td>...</td>\n",
       "      <td>3605</td>\n",
       "      <td>0</td>\n",
       "      <td>0</td>\n",
       "      <td>0</td>\n",
       "      <td>0</td>\n",
       "      <td>0</td>\n",
       "      <td>1</td>\n",
       "      <td>0</td>\n",
       "      <td>0</td>\n",
       "      <td>3.5</td>\n",
       "    </tr>\n",
       "    <tr>\n",
       "      <th>2467</th>\n",
       "      <td>2604</td>\n",
       "      <td>214221</td>\n",
       "      <td>1877</td>\n",
       "      <td>438</td>\n",
       "      <td>2395</td>\n",
       "      <td>0</td>\n",
       "      <td>148</td>\n",
       "      <td>0</td>\n",
       "      <td>60</td>\n",
       "      <td>1</td>\n",
       "      <td>...</td>\n",
       "      <td>1920</td>\n",
       "      <td>1</td>\n",
       "      <td>0</td>\n",
       "      <td>0</td>\n",
       "      <td>0</td>\n",
       "      <td>0</td>\n",
       "      <td>0</td>\n",
       "      <td>0</td>\n",
       "      <td>0</td>\n",
       "      <td>4.0</td>\n",
       "    </tr>\n",
       "    <tr>\n",
       "      <th>2468</th>\n",
       "      <td>3063</td>\n",
       "      <td>231580</td>\n",
       "      <td>2761</td>\n",
       "      <td>201</td>\n",
       "      <td>2849</td>\n",
       "      <td>0</td>\n",
       "      <td>126</td>\n",
       "      <td>0</td>\n",
       "      <td>88</td>\n",
       "      <td>0</td>\n",
       "      <td>...</td>\n",
       "      <td>1031</td>\n",
       "      <td>0</td>\n",
       "      <td>0</td>\n",
       "      <td>0</td>\n",
       "      <td>0</td>\n",
       "      <td>0</td>\n",
       "      <td>0</td>\n",
       "      <td>0</td>\n",
       "      <td>0</td>\n",
       "      <td>1.5</td>\n",
       "    </tr>\n",
       "    <tr>\n",
       "      <th>2469</th>\n",
       "      <td>3242</td>\n",
       "      <td>289439</td>\n",
       "      <td>2133</td>\n",
       "      <td>413</td>\n",
       "      <td>2895</td>\n",
       "      <td>0</td>\n",
       "      <td>71</td>\n",
       "      <td>0</td>\n",
       "      <td>274</td>\n",
       "      <td>0</td>\n",
       "      <td>...</td>\n",
       "      <td>2593</td>\n",
       "      <td>0</td>\n",
       "      <td>0</td>\n",
       "      <td>0</td>\n",
       "      <td>0</td>\n",
       "      <td>0</td>\n",
       "      <td>0</td>\n",
       "      <td>0</td>\n",
       "      <td>0</td>\n",
       "      <td>5.0</td>\n",
       "    </tr>\n",
       "    <tr>\n",
       "      <th>2470</th>\n",
       "      <td>3619</td>\n",
       "      <td>301235</td>\n",
       "      <td>1496</td>\n",
       "      <td>241</td>\n",
       "      <td>2451</td>\n",
       "      <td>0</td>\n",
       "      <td>843</td>\n",
       "      <td>0</td>\n",
       "      <td>283</td>\n",
       "      <td>6</td>\n",
       "      <td>...</td>\n",
       "      <td>2177</td>\n",
       "      <td>5</td>\n",
       "      <td>1</td>\n",
       "      <td>0</td>\n",
       "      <td>0</td>\n",
       "      <td>0</td>\n",
       "      <td>0</td>\n",
       "      <td>0</td>\n",
       "      <td>0</td>\n",
       "      <td>4.0</td>\n",
       "    </tr>\n",
       "  </tbody>\n",
       "</table>\n",
       "<p>2471 rows × 41 columns</p>\n",
       "</div>"
      ],
      "text/plain": [
       "      event_id  action_time  cursor_position  word_count  Input  \\\n",
       "0         2557       297243             1539         256   2010   \n",
       "1         2454       275391             1676         323   1938   \n",
       "2         4136       421201             2291         404   3515   \n",
       "3         1556       189596             1047         206   1304   \n",
       "4         2531       313702             1402         252   1942   \n",
       "...        ...          ...              ...         ...    ...   \n",
       "2466      4739       499670             1634         461   3588   \n",
       "2467      2604       214221             1877         438   2395   \n",
       "2468      3063       231580             2761         201   2849   \n",
       "2469      3242       289439             2133         413   2895   \n",
       "2470      3619       301235             1496         241   2451   \n",
       "\n",
       "      Move From [624, 625] To [845, 846]  Nonproduction  Paste  Remove/Cut  \\\n",
       "0                                      0            120      0         417   \n",
       "1                                      0            254      0         260   \n",
       "2                                      0            175      0         436   \n",
       "3                                      0             99      0         151   \n",
       "4                                      0             72      0         517   \n",
       "...                                  ...            ...    ...         ...   \n",
       "2466                                   0            189      0         959   \n",
       "2467                                   0            148      0          60   \n",
       "2468                                   0            126      0          88   \n",
       "2469                                   0             71      0         274   \n",
       "2470                                   0            843      0         283   \n",
       "\n",
       "      Replace  ...     q  q => q  qq => q  qqq  => q  qqq => q  qqqq  => q  \\\n",
       "0           1  ...  1939       0        0          0         0           1   \n",
       "1           1  ...  1698       0        0          0         0           0   \n",
       "2           0  ...  3257       0        0          0         0           0   \n",
       "3           0  ...  1146       0        0          0         0           0   \n",
       "4           0  ...  1964       0        0          0         0           0   \n",
       "...       ...  ...   ...     ...      ...        ...       ...         ...   \n",
       "2466        1  ...  3605       0        0          0         0           0   \n",
       "2467        1  ...  1920       1        0          0         0           0   \n",
       "2468        0  ...  1031       0        0          0         0           0   \n",
       "2469        0  ...  2593       0        0          0         0           0   \n",
       "2470        6  ...  2177       5        1          0         0           0   \n",
       "\n",
       "      qqqq => q  qqqqq => q  qqqqqq => q  score  \n",
       "0             0           0            0    3.5  \n",
       "1             0           0            1    3.5  \n",
       "2             0           0            0    6.0  \n",
       "3             0           0            0    2.0  \n",
       "4             0           0            0    4.0  \n",
       "...         ...         ...          ...    ...  \n",
       "2466          1           0            0    3.5  \n",
       "2467          0           0            0    4.0  \n",
       "2468          0           0            0    1.5  \n",
       "2469          0           0            0    5.0  \n",
       "2470          0           0            0    4.0  \n",
       "\n",
       "[2471 rows x 41 columns]"
      ]
     },
     "execution_count": 10,
     "metadata": {},
     "output_type": "execute_result"
    }
   ],
   "source": [
    "train_df = feat_eng(train_logs)\n",
    "train_df = train_df.merge(train_scores, on='id')\n",
    "train_df = train_df.drop(columns=['id'])\n",
    "train_df"
   ]
  },
  {
   "cell_type": "markdown",
   "id": "a4130584",
   "metadata": {
    "papermill": {
     "duration": 0.009393,
     "end_time": "2023-10-24T04:46:36.810417",
     "exception": false,
     "start_time": "2023-10-24T04:46:36.801024",
     "status": "completed"
    },
    "tags": []
   },
   "source": [
    "# Model Building\n",
    "Let's train and evaluate our model."
   ]
  },
  {
   "cell_type": "code",
   "execution_count": 11,
   "id": "7d611dd3",
   "metadata": {
    "execution": {
     "iopub.execute_input": "2023-10-24T04:46:36.831987Z",
     "iopub.status.busy": "2023-10-24T04:46:36.830973Z",
     "iopub.status.idle": "2023-10-24T04:46:36.886572Z",
     "shell.execute_reply": "2023-10-24T04:46:36.885299Z"
    },
    "papermill": {
     "duration": 0.07075,
     "end_time": "2023-10-24T04:46:36.890708",
     "exception": false,
     "start_time": "2023-10-24T04:46:36.819958",
     "status": "completed"
    },
    "tags": []
   },
   "outputs": [
    {
     "name": "stdout",
     "output_type": "stream",
     "text": [
      "Mean Squared Error: 0.4631880158418753\n"
     ]
    }
   ],
   "source": [
    "\n",
    "X = train_df.drop(columns='score')\n",
    "y = train_df['score']\n",
    "\n",
    "# Split the data into training and validation sets\n",
    "X_train, X_val, y_train, y_val = train_test_split(X, y, test_size=0.2, random_state=42)\n",
    "\n",
    "# Create and train a model (e.g., Linear Regression)\n",
    "model = LinearRegression()\n",
    "model.fit(X_train, y_train)\n",
    "\n",
    "# Make predictions on the validation set\n",
    "predictions = model.predict(X_val)\n",
    "\n",
    "# Evaluate the model\n",
    "mse = mean_squared_error(y_val, predictions)\n",
    "print(f'Mean Squared Error: {mse}')"
   ]
  },
  {
   "cell_type": "markdown",
   "id": "611f9071",
   "metadata": {
    "papermill": {
     "duration": 0.038922,
     "end_time": "2023-10-24T04:46:36.983386",
     "exception": false,
     "start_time": "2023-10-24T04:46:36.944464",
     "status": "completed"
    },
    "tags": []
   },
   "source": [
    "# Visualization of Model Results\n",
    "Visualizing the results of our model, such as a scatter plot comparing actual scores to predicted scores."
   ]
  },
  {
   "cell_type": "code",
   "execution_count": 12,
   "id": "8495b515",
   "metadata": {
    "execution": {
     "iopub.execute_input": "2023-10-24T04:46:37.015693Z",
     "iopub.status.busy": "2023-10-24T04:46:37.015208Z",
     "iopub.status.idle": "2023-10-24T04:46:37.022160Z",
     "shell.execute_reply": "2023-10-24T04:46:37.021042Z"
    },
    "papermill": {
     "duration": 0.020571,
     "end_time": "2023-10-24T04:46:37.024529",
     "exception": false,
     "start_time": "2023-10-24T04:46:37.003958",
     "status": "completed"
    },
    "tags": []
   },
   "outputs": [
    {
     "data": {
      "text/plain": [
       "495"
      ]
     },
     "execution_count": 12,
     "metadata": {},
     "output_type": "execute_result"
    }
   ],
   "source": [
    "len(predictions)"
   ]
  },
  {
   "cell_type": "code",
   "execution_count": 13,
   "id": "047ee642",
   "metadata": {
    "execution": {
     "iopub.execute_input": "2023-10-24T04:46:37.046906Z",
     "iopub.status.busy": "2023-10-24T04:46:37.046089Z",
     "iopub.status.idle": "2023-10-24T04:46:37.068977Z",
     "shell.execute_reply": "2023-10-24T04:46:37.067821Z"
    },
    "papermill": {
     "duration": 0.036754,
     "end_time": "2023-10-24T04:46:37.071396",
     "exception": false,
     "start_time": "2023-10-24T04:46:37.034642",
     "status": "completed"
    },
    "tags": []
   },
   "outputs": [
    {
     "data": {
      "text/html": [
       "<div>\n",
       "<style scoped>\n",
       "    .dataframe tbody tr th:only-of-type {\n",
       "        vertical-align: middle;\n",
       "    }\n",
       "\n",
       "    .dataframe tbody tr th {\n",
       "        vertical-align: top;\n",
       "    }\n",
       "\n",
       "    .dataframe thead th {\n",
       "        text-align: right;\n",
       "    }\n",
       "</style>\n",
       "<table border=\"1\" class=\"dataframe\">\n",
       "  <thead>\n",
       "    <tr style=\"text-align: right;\">\n",
       "      <th></th>\n",
       "      <th>event_id</th>\n",
       "      <th>action_time</th>\n",
       "      <th>cursor_position</th>\n",
       "      <th>word_count</th>\n",
       "      <th>Input</th>\n",
       "      <th></th>\n",
       "      <th>q</th>\n",
       "    </tr>\n",
       "    <tr>\n",
       "      <th>id</th>\n",
       "      <th></th>\n",
       "      <th></th>\n",
       "      <th></th>\n",
       "      <th></th>\n",
       "      <th></th>\n",
       "      <th></th>\n",
       "      <th></th>\n",
       "    </tr>\n",
       "  </thead>\n",
       "  <tbody>\n",
       "    <tr>\n",
       "      <th>0000aaaa</th>\n",
       "      <td>2</td>\n",
       "      <td>172</td>\n",
       "      <td>1</td>\n",
       "      <td>0</td>\n",
       "      <td>2</td>\n",
       "      <td>2</td>\n",
       "      <td>0</td>\n",
       "    </tr>\n",
       "    <tr>\n",
       "      <th>2222bbbb</th>\n",
       "      <td>2</td>\n",
       "      <td>113</td>\n",
       "      <td>1</td>\n",
       "      <td>1</td>\n",
       "      <td>2</td>\n",
       "      <td>0</td>\n",
       "      <td>2</td>\n",
       "    </tr>\n",
       "    <tr>\n",
       "      <th>4444cccc</th>\n",
       "      <td>2</td>\n",
       "      <td>150</td>\n",
       "      <td>1</td>\n",
       "      <td>1</td>\n",
       "      <td>2</td>\n",
       "      <td>1</td>\n",
       "      <td>1</td>\n",
       "    </tr>\n",
       "  </tbody>\n",
       "</table>\n",
       "</div>"
      ],
      "text/plain": [
       "          event_id  action_time  cursor_position  word_count  Input     q\n",
       "id                                                                       \n",
       "0000aaaa         2          172                1           0      2  2  0\n",
       "2222bbbb         2          113                1           1      2  0  2\n",
       "4444cccc         2          150                1           1      2  1  1"
      ]
     },
     "execution_count": 13,
     "metadata": {},
     "output_type": "execute_result"
    }
   ],
   "source": [
    "test_df = feat_eng(test_logs)\n",
    "test_df"
   ]
  },
  {
   "cell_type": "code",
   "execution_count": 14,
   "id": "424962f4",
   "metadata": {
    "execution": {
     "iopub.execute_input": "2023-10-24T04:46:37.094142Z",
     "iopub.status.busy": "2023-10-24T04:46:37.093489Z",
     "iopub.status.idle": "2023-10-24T04:46:37.107904Z",
     "shell.execute_reply": "2023-10-24T04:46:37.107043Z"
    },
    "papermill": {
     "duration": 0.028681,
     "end_time": "2023-10-24T04:46:37.110304",
     "exception": false,
     "start_time": "2023-10-24T04:46:37.081623",
     "status": "completed"
    },
    "tags": []
   },
   "outputs": [],
   "source": [
    "train_columns = X.columns\n",
    "for col in train_columns:\n",
    "    if col not in test_df.columns:\n",
    "        test_df[col] = 0\n",
    "\n",
    "      \n",
    "\n",
    "#test_df = test_df.drop(columns=['id'], axis=1)"
   ]
  },
  {
   "cell_type": "code",
   "execution_count": 15,
   "id": "bd0303a8",
   "metadata": {
    "execution": {
     "iopub.execute_input": "2023-10-24T04:46:37.132945Z",
     "iopub.status.busy": "2023-10-24T04:46:37.132259Z",
     "iopub.status.idle": "2023-10-24T04:46:37.139958Z",
     "shell.execute_reply": "2023-10-24T04:46:37.139177Z"
    },
    "papermill": {
     "duration": 0.021668,
     "end_time": "2023-10-24T04:46:37.142230",
     "exception": false,
     "start_time": "2023-10-24T04:46:37.120562",
     "status": "completed"
    },
    "tags": []
   },
   "outputs": [],
   "source": [
    "test_df = test_df.fillna(0)\n",
    "test_df = test_df[X.columns] "
   ]
  },
  {
   "cell_type": "markdown",
   "id": "08f36519",
   "metadata": {
    "papermill": {
     "duration": 0.009777,
     "end_time": "2023-10-24T04:46:37.162129",
     "exception": false,
     "start_time": "2023-10-24T04:46:37.152352",
     "status": "completed"
    },
    "tags": []
   },
   "source": [
    "# Preparing Submissions\n"
   ]
  },
  {
   "cell_type": "code",
   "execution_count": 16,
   "id": "180ca960",
   "metadata": {
    "execution": {
     "iopub.execute_input": "2023-10-24T04:46:37.184480Z",
     "iopub.status.busy": "2023-10-24T04:46:37.183814Z",
     "iopub.status.idle": "2023-10-24T04:46:37.198420Z",
     "shell.execute_reply": "2023-10-24T04:46:37.197143Z"
    },
    "papermill": {
     "duration": 0.028672,
     "end_time": "2023-10-24T04:46:37.200967",
     "exception": false,
     "start_time": "2023-10-24T04:46:37.172295",
     "status": "completed"
    },
    "tags": []
   },
   "outputs": [
    {
     "name": "stdout",
     "output_type": "stream",
     "text": [
      "Sucessfully submited\n"
     ]
    }
   ],
   "source": [
    "test_predictions = model.predict(test_df)\n",
    "# Create a submission DataFrame\n",
    "submission = pd.DataFrame({'id': test_logs['id'].unique(), 'score': test_predictions})\n",
    "# I don't know how I missed, remove the dups here\n",
    "submission = submission.drop_duplicates(subset=['id'])\n",
    "\n",
    "# Save the submission to a CSV file\n",
    "submission.to_csv('submission.csv', index=False)\n",
    "\n",
    "print('Sucessfully submited')\n"
   ]
  },
  {
   "cell_type": "code",
   "execution_count": null,
   "id": "77b99c4f",
   "metadata": {
    "papermill": {
     "duration": 0.010148,
     "end_time": "2023-10-24T04:46:37.221457",
     "exception": false,
     "start_time": "2023-10-24T04:46:37.211309",
     "status": "completed"
    },
    "tags": []
   },
   "outputs": [],
   "source": []
  }
 ],
 "metadata": {
  "kernelspec": {
   "display_name": "Python 3",
   "language": "python",
   "name": "python3"
  },
  "language_info": {
   "codemirror_mode": {
    "name": "ipython",
    "version": 3
   },
   "file_extension": ".py",
   "mimetype": "text/x-python",
   "name": "python",
   "nbconvert_exporter": "python",
   "pygments_lexer": "ipython3",
   "version": "3.10.12"
  },
  "papermill": {
   "default_parameters": {},
   "duration": 37.534298,
   "end_time": "2023-10-24T04:46:38.053450",
   "environment_variables": {},
   "exception": null,
   "input_path": "__notebook__.ipynb",
   "output_path": "__notebook__.ipynb",
   "parameters": {},
   "start_time": "2023-10-24T04:46:00.519152",
   "version": "2.4.0"
  }
 },
 "nbformat": 4,
 "nbformat_minor": 5
}
